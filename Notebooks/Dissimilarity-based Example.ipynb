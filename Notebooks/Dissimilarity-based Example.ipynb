{
 "cells": [
  {
   "cell_type": "code",
   "execution_count": 1,
   "metadata": {},
   "outputs": [],
   "source": [
    "# Imports\n",
    "import numpy as np\n",
    "from sklearn.model_selection import train_test_split\n",
    "import BioSPPy.biosppy.features.feature_vector as fv\n",
    "import BioSPPy.biosppy.classification.supervised_learning as sl\n",
    "import pandas as pd\n",
    "import warnings\n",
    "warnings.filterwarnings(\"ignore\")\n",
    "import BioSPPy.biosppy.classification.dissimilarity_based as db\n",
    "from sklearn.linear_model import LogisticRegression\n",
    "from sklearn.metrics import accuracy_score, confusion_matrix, classification_report\n",
    "import matplotlib.pyplot as plt\n",
    "import seaborn as sb\n",
    "sb.set()"
   ]
  },
  {
   "cell_type": "code",
   "execution_count": 2,
   "metadata": {},
   "outputs": [],
   "source": [
    "# Load data\n",
    "signals = pd.read_csv('BioSPPy/examples/BITALINO.csv', sep=';')\n",
    "data = pd.concat((signals.A1, signals.A2, signals.A3, signals.A4)).values"
   ]
  },
  {
   "cell_type": "code",
   "execution_count": 3,
   "metadata": {},
   "outputs": [],
   "source": [
    "# Get sampling rate\n",
    "SR = int(signals['Sampling Rate'][0])\n",
    "windows_len = 5"
   ]
  },
  {
   "cell_type": "code",
   "execution_count": 4,
   "metadata": {},
   "outputs": [
    {
     "name": "stdout",
     "output_type": "stream",
     "text": [
      "<START Feature Extraction>\n",
      "<END Feature Extraction>\n",
      "Time:  35.4362530708313  seconds\n"
     ]
    }
   ],
   "source": [
    "# Feature Extraction\n",
    "_l = np.array([1] * len(signals.A1) + [2] * len(signals.A2) + [3] * len(signals.A3) + [4] * len(signals.A4))\n",
    "window_size = int(SR * windows_len)\n",
    "labels = np.array([_l[i:i + window_size][0] for i in range(0, len(_l), window_size)])[:-1]\n",
    "feature_vector, data = fv.get_feat(data, sig_lab='Signal', sampling_rate=SR, windows_len=windows_len, segment=True, save=False)"
   ]
  },
  {
   "cell_type": "code",
   "execution_count": 5,
   "metadata": {},
   "outputs": [
    {
     "name": "stdout",
     "output_type": "stream",
     "text": [
      "Removing Signal_abs_dev\n",
      "Removing Signal_autocorr\n",
      "Removing Signal_histbin_37\n",
      "Removing Signal_histbin_47\n",
      "Removing Signal_interquartile_range\n",
      "Removing Signal_max_power_spectrum\n",
      "Removing Signal_mean_abs_dev\n",
      "Removing Signal_meanadiff\n",
      "Removing Signal_medadiff\n",
      "Removing Signal_median\n",
      "Removing Signal_median_abs_dev\n",
      "Removing Signal_rms\n",
      "Removing Signal_sadiff\n",
      "Removing Signal_spectral_histbin_18\n",
      "Removing Signal_spectral_histbin_19\n",
      "Removing Signal_spectral_histbin_20\n",
      "Removing Signal_spectral_histbin_21\n",
      "Removing Signal_spectral_histbin_27\n",
      "Removing Signal_spectral_histbin_28\n",
      "Removing Signal_spectral_histbin_29\n",
      "Removing Signal_spectral_histbin_30\n",
      "Removing Signal_spectral_histbin_31\n",
      "Removing Signal_spectral_slope\n",
      "Removing Signal_spectral_spread\n",
      "Removing Signal_std_dev\n",
      "Removing Signal_total_energy\n"
     ]
    }
   ],
   "source": [
    "# Remove redundant features\n",
    "feature_vector = fv.remove_correlatedFeatures(feature_vector)"
   ]
  },
  {
   "cell_type": "code",
   "execution_count": 6,
   "metadata": {},
   "outputs": [],
   "source": [
    "# Separate in train and set set\n",
    "X_train, X_test, y_train, y_test, train_data, test_data = train_test_split(feature_vector.values, labels, data, test_size=0.33, random_state=42)"
   ]
  },
  {
   "cell_type": "code",
   "execution_count": 7,
   "metadata": {},
   "outputs": [
    {
     "name": "stdout",
     "output_type": "stream",
     "text": [
      "<START Classification>\n",
      "Classifier:  Nearest Neighbors\n",
      "Accuracy: 72.05107129157761 +- 4.203774550717628%\n",
      "-----------------------------------------\n",
      "Classifier:  Decision Tree\n",
      "Accuracy: 98.21469669570936 +- 1.8999571202895151%\n",
      "-----------------------------------------\n",
      "Classifier:  Random Forest\n",
      "Accuracy: 98.47119125600139 +- 1.23831118058986%\n",
      "-----------------------------------------\n",
      "Classifier:  ExtraTree\n",
      "Accuracy: 98.72435581296341 +- 0.800684295609556%\n",
      "-----------------------------------------\n",
      "Classifier:  AdaBoost\n",
      "Accuracy: 97.69205478066237 +- 1.4841654186854907%\n",
      "-----------------------------------------\n",
      "Classifier:  GradientBoosting\n",
      "Accuracy: 98.46461555322314 +- 1.4848498003961186%\n",
      "-----------------------------------------\n",
      "Classifier:  Gaussian NB\n",
      "Accuracy: 97.95171073652087 +- 1.0121669325834204%\n",
      "-----------------------------------------\n",
      "Classifier:  Multinomial NB\n",
      "Accuracy: 0.0 +- 0.0%\n",
      "-----------------------------------------\n",
      "Classifier:  Complement NB\n",
      "Accuracy: 0.0 +- 0.0%\n",
      "-----------------------------------------\n",
      "Classifier:  Bernoulli NB\n",
      "Accuracy: 93.8520551178779 +- 2.482520776882595%\n",
      "-----------------------------------------\n",
      "Classifier:  Linear Discriminant Analysis\n",
      "Accuracy: 95.89360007081525 +- 1.2832736384923544%\n",
      "-----------------------------------------\n",
      "Classifier:  Quadratic Discriminant Analysis\n",
      "Accuracy: 78.69210957818554 +- 4.389574718463697%\n",
      "-----------------------------------------\n",
      "Classifier:  MLPClassifier\n"
     ]
    },
    {
     "name": "stderr",
     "output_type": "stream",
     "text": [
      "/miniconda3/lib/python3.7/site-packages/sklearn/discriminant_analysis.py:388: UserWarning: Variables are collinear.\n",
      "  warnings.warn(\"Variables are collinear.\")\n",
      "/miniconda3/lib/python3.7/site-packages/sklearn/discriminant_analysis.py:388: UserWarning: Variables are collinear.\n",
      "  warnings.warn(\"Variables are collinear.\")\n",
      "/miniconda3/lib/python3.7/site-packages/sklearn/discriminant_analysis.py:388: UserWarning: Variables are collinear.\n",
      "  warnings.warn(\"Variables are collinear.\")\n",
      "/miniconda3/lib/python3.7/site-packages/sklearn/discriminant_analysis.py:388: UserWarning: Variables are collinear.\n",
      "  warnings.warn(\"Variables are collinear.\")\n",
      "/miniconda3/lib/python3.7/site-packages/sklearn/discriminant_analysis.py:388: UserWarning: Variables are collinear.\n",
      "  warnings.warn(\"Variables are collinear.\")\n",
      "/miniconda3/lib/python3.7/site-packages/sklearn/discriminant_analysis.py:692: UserWarning: Variables are collinear\n",
      "  warnings.warn(\"Variables are collinear\")\n",
      "/miniconda3/lib/python3.7/site-packages/sklearn/discriminant_analysis.py:692: UserWarning: Variables are collinear\n",
      "  warnings.warn(\"Variables are collinear\")\n",
      "/miniconda3/lib/python3.7/site-packages/sklearn/discriminant_analysis.py:692: UserWarning: Variables are collinear\n",
      "  warnings.warn(\"Variables are collinear\")\n",
      "/miniconda3/lib/python3.7/site-packages/sklearn/discriminant_analysis.py:692: UserWarning: Variables are collinear\n",
      "  warnings.warn(\"Variables are collinear\")\n",
      "/miniconda3/lib/python3.7/site-packages/sklearn/discriminant_analysis.py:692: UserWarning: Variables are collinear\n",
      "  warnings.warn(\"Variables are collinear\")\n",
      "/miniconda3/lib/python3.7/site-packages/sklearn/discriminant_analysis.py:692: UserWarning: Variables are collinear\n",
      "  warnings.warn(\"Variables are collinear\")\n",
      "/miniconda3/lib/python3.7/site-packages/sklearn/discriminant_analysis.py:692: UserWarning: Variables are collinear\n",
      "  warnings.warn(\"Variables are collinear\")\n",
      "/miniconda3/lib/python3.7/site-packages/sklearn/discriminant_analysis.py:692: UserWarning: Variables are collinear\n",
      "  warnings.warn(\"Variables are collinear\")\n",
      "/miniconda3/lib/python3.7/site-packages/sklearn/discriminant_analysis.py:692: UserWarning: Variables are collinear\n",
      "  warnings.warn(\"Variables are collinear\")\n",
      "/miniconda3/lib/python3.7/site-packages/sklearn/discriminant_analysis.py:692: UserWarning: Variables are collinear\n",
      "  warnings.warn(\"Variables are collinear\")\n",
      "/miniconda3/lib/python3.7/site-packages/sklearn/discriminant_analysis.py:692: UserWarning: Variables are collinear\n",
      "  warnings.warn(\"Variables are collinear\")\n",
      "/miniconda3/lib/python3.7/site-packages/sklearn/discriminant_analysis.py:692: UserWarning: Variables are collinear\n",
      "  warnings.warn(\"Variables are collinear\")\n",
      "/miniconda3/lib/python3.7/site-packages/sklearn/discriminant_analysis.py:692: UserWarning: Variables are collinear\n",
      "  warnings.warn(\"Variables are collinear\")\n",
      "/miniconda3/lib/python3.7/site-packages/sklearn/discriminant_analysis.py:692: UserWarning: Variables are collinear\n",
      "  warnings.warn(\"Variables are collinear\")\n",
      "/miniconda3/lib/python3.7/site-packages/sklearn/discriminant_analysis.py:692: UserWarning: Variables are collinear\n",
      "  warnings.warn(\"Variables are collinear\")\n",
      "/miniconda3/lib/python3.7/site-packages/sklearn/discriminant_analysis.py:692: UserWarning: Variables are collinear\n",
      "  warnings.warn(\"Variables are collinear\")\n",
      "/miniconda3/lib/python3.7/site-packages/sklearn/discriminant_analysis.py:692: UserWarning: Variables are collinear\n",
      "  warnings.warn(\"Variables are collinear\")\n",
      "/miniconda3/lib/python3.7/site-packages/sklearn/discriminant_analysis.py:692: UserWarning: Variables are collinear\n",
      "  warnings.warn(\"Variables are collinear\")\n",
      "/miniconda3/lib/python3.7/site-packages/sklearn/discriminant_analysis.py:692: UserWarning: Variables are collinear\n",
      "  warnings.warn(\"Variables are collinear\")\n",
      "/miniconda3/lib/python3.7/site-packages/sklearn/discriminant_analysis.py:692: UserWarning: Variables are collinear\n",
      "  warnings.warn(\"Variables are collinear\")\n"
     ]
    },
    {
     "name": "stdout",
     "output_type": "stream",
     "text": [
      "Accuracy: 28.4614120057158 +- 8.855751839337701%\n",
      "-----------------------------------------\n",
      "Classifier:  SVM\n",
      "Accuracy: 26.926617686111353 +- 0.3087831618575583%\n",
      "-----------------------------------------\n",
      "Classifier:  Linear SVM\n"
     ]
    },
    {
     "name": "stderr",
     "output_type": "stream",
     "text": [
      "/miniconda3/lib/python3.7/site-packages/sklearn/svm/base.py:931: ConvergenceWarning: Liblinear failed to converge, increase the number of iterations.\n",
      "  \"the number of iterations.\", ConvergenceWarning)\n",
      "/miniconda3/lib/python3.7/site-packages/sklearn/svm/base.py:931: ConvergenceWarning: Liblinear failed to converge, increase the number of iterations.\n",
      "  \"the number of iterations.\", ConvergenceWarning)\n",
      "/miniconda3/lib/python3.7/site-packages/sklearn/svm/base.py:931: ConvergenceWarning: Liblinear failed to converge, increase the number of iterations.\n",
      "  \"the number of iterations.\", ConvergenceWarning)\n",
      "/miniconda3/lib/python3.7/site-packages/sklearn/svm/base.py:931: ConvergenceWarning: Liblinear failed to converge, increase the number of iterations.\n",
      "  \"the number of iterations.\", ConvergenceWarning)\n",
      "/miniconda3/lib/python3.7/site-packages/sklearn/svm/base.py:931: ConvergenceWarning: Liblinear failed to converge, increase the number of iterations.\n",
      "  \"the number of iterations.\", ConvergenceWarning)\n"
     ]
    },
    {
     "name": "stdout",
     "output_type": "stream",
     "text": [
      "Accuracy: 26.653810324696394 +- 1.8461975062001839%\n",
      "-----------------------------------------\n",
      "Classifier:  Gaussian Process\n",
      "Accuracy: 24.86850702040575 +- 0.38355661961790877%\n",
      "-----------------------------------------\n",
      "Classifier:  MLP\n",
      "Accuracy: 26.95300480110607 +- 4.113219217176797%\n",
      "-----------------------------------------\n",
      "Classifier:  SGD\n",
      "Accuracy: 25.641152096848298 +- 1.1162424949600867%\n",
      "-----------------------------------------\n",
      "Classifier:  LogisticRegression\n",
      "Accuracy: 88.98257860283175 +- 6.740823208877542%\n",
      "-----------------------------------------\n",
      "<END Classification>\n",
      "Best Classifier: ExtraTree\n",
      "Accuracy: 98.72435581296341%\n"
     ]
    }
   ],
   "source": [
    "# Fit supervised Learning Classifiers on the training set data\n",
    "classifier = sl.supervised_classification(X_train, y_train)"
   ]
  },
  {
   "cell_type": "code",
   "execution_count": 8,
   "metadata": {},
   "outputs": [
    {
     "name": "stdout",
     "output_type": "stream",
     "text": [
      "*** Feature selection started ***\n",
      "FINAL Features: ['Signal_maxdiff', 'Signal_maxAmp', 'Signal_distance', 'Signal_kurtosis', 'Signal_spectral_kurtosis']\n",
      "Number of selected features 5\n",
      "Features idx:  [79, 72, 76, 2, 93]\n",
      "Acc:  [0.7410298539518901, 97.44555412371133, 97.97411941580756, 98.21370274914088, 98.22411941580756]\n",
      "From  140  features to  5\n",
      "*** Feature selection finished ***\n"
     ]
    }
   ],
   "source": [
    "# Feature selection\n",
    "FS_idx, FS_features_names, FS_X_train = fv.FSE(X_train, y_train, feature_vector.columns, classifier, CV=4)\n",
    "\n",
    "FS_X_test = X_test[:, FS_idx]\n",
    "FS_X_train = X_train[:, FS_idx]"
   ]
  },
  {
   "cell_type": "code",
   "execution_count": 9,
   "metadata": {},
   "outputs": [
    {
     "name": "stdout",
     "output_type": "stream",
     "text": [
      "<START Classification>\n",
      "Classifier:  Nearest Neighbors\n",
      "Accuracy: 99.74683544303798 +- 0.5063291139240506%\n",
      "-----------------------------------------\n",
      "Classifier:  Decision Tree\n",
      "Accuracy: 96.42623199585225 +- 1.458819406821698%\n",
      "-----------------------------------------\n",
      "Classifier:  Random Forest\n",
      "Accuracy: 97.9616164426291 +- 1.2896669787789097%\n",
      "-----------------------------------------\n",
      "Classifier:  ExtraTree\n",
      "Accuracy: 98.97752036992543 +- 0.9499670387596101%\n",
      "-----------------------------------------\n",
      "Classifier:  AdaBoost\n",
      "Accuracy: 76.15730261299882 +- 0.8935413686881853%\n",
      "-----------------------------------------\n",
      "Classifier:  GradientBoosting\n",
      "Accuracy: 98.20820529681289 +- 1.2896508594799996%\n",
      "-----------------------------------------\n",
      "Classifier:  Gaussian NB\n",
      "Accuracy: 96.15667033388551 +- 1.1326822588784866%\n",
      "-----------------------------------------\n",
      "Classifier:  Multinomial NB\n",
      "Accuracy: 0.0 +- 0.0%\n",
      "-----------------------------------------\n",
      "Classifier:  Complement NB\n",
      "Accuracy: 0.0 +- 0.0%\n",
      "-----------------------------------------\n",
      "Classifier:  Bernoulli NB\n",
      "Accuracy: 49.76323254804267 +- 2.26312905280297%\n",
      "-----------------------------------------\n",
      "Classifier:  Linear Discriminant Analysis\n",
      "Accuracy: 95.64376551718324 +- 1.7506871907117705%\n",
      "-----------------------------------------\n",
      "Classifier:  Quadratic Discriminant Analysis\n",
      "Accuracy: 99.48709518329773 +- 0.6282635801653454%\n",
      "-----------------------------------------\n",
      "Classifier:  MLPClassifier\n",
      "Accuracy: 29.474323145209222 +- 5.111743788975479%\n",
      "-----------------------------------------\n",
      "Classifier:  SVM\n",
      "Accuracy: 36.664980589031224 +- 1.1835218992017973%\n",
      "-----------------------------------------\n",
      "Classifier:  Linear SVM\n"
     ]
    },
    {
     "name": "stderr",
     "output_type": "stream",
     "text": [
      "/miniconda3/lib/python3.7/site-packages/sklearn/svm/base.py:931: ConvergenceWarning: Liblinear failed to converge, increase the number of iterations.\n",
      "  \"the number of iterations.\", ConvergenceWarning)\n",
      "/miniconda3/lib/python3.7/site-packages/sklearn/svm/base.py:931: ConvergenceWarning: Liblinear failed to converge, increase the number of iterations.\n",
      "  \"the number of iterations.\", ConvergenceWarning)\n",
      "/miniconda3/lib/python3.7/site-packages/sklearn/svm/base.py:931: ConvergenceWarning: Liblinear failed to converge, increase the number of iterations.\n",
      "  \"the number of iterations.\", ConvergenceWarning)\n",
      "/miniconda3/lib/python3.7/site-packages/sklearn/svm/base.py:931: ConvergenceWarning: Liblinear failed to converge, increase the number of iterations.\n",
      "  \"the number of iterations.\", ConvergenceWarning)\n",
      "/miniconda3/lib/python3.7/site-packages/sklearn/svm/base.py:931: ConvergenceWarning: Liblinear failed to converge, increase the number of iterations.\n",
      "  \"the number of iterations.\", ConvergenceWarning)\n"
     ]
    },
    {
     "name": "stdout",
     "output_type": "stream",
     "text": [
      "Accuracy: 37.45368555495138 +- 10.079912432537355%\n",
      "-----------------------------------------\n",
      "Classifier:  Gaussian Process\n",
      "Accuracy: 53.33383915662396 +- 1.176136643063386%\n",
      "-----------------------------------------\n",
      "Classifier:  MLP\n",
      "Accuracy: 30.595944140247934 +- 10.268864681080515%\n",
      "-----------------------------------------\n",
      "Classifier:  SGD\n",
      "Accuracy: 24.3621779064817 +- 0.2793752416806469%\n",
      "-----------------------------------------\n",
      "Classifier:  LogisticRegression\n",
      "Accuracy: 97.4487116259268 +- 2.6489837243339163%\n",
      "-----------------------------------------\n",
      "<END Classification>\n",
      "Best Classifier: Nearest Neighbors\n",
      "Accuracy: 99.74683544303798%\n"
     ]
    }
   ],
   "source": [
    "# Update best classifier for the best feature set\n",
    "classifier = sl.supervised_classification(FS_X_train, y_train)"
   ]
  },
  {
   "cell_type": "markdown",
   "metadata": {},
   "source": [
    "![title](db.pdf)"
   ]
  },
  {
   "cell_type": "code",
   "execution_count": 10,
   "metadata": {},
   "outputs": [
    {
     "name": "stdout",
     "output_type": "stream",
     "text": [
      "Number of clusters in class label: kmin:  2 kmax:  46\n",
      "Number of clusters in class label: kmin:  2 kmax:  47\n",
      "Number of clusters in class label: kmin:  2 kmax:  52\n",
      "Number of clusters in class label: kmin:  2 kmax:  48\n",
      "Accuracy (%):  94.30051813471503\n",
      "              precision    recall  f1-score   support\n",
      "\n",
      "        Resp       0.96      0.94      0.95        53\n",
      "         ECG       1.00      1.00      1.00        51\n",
      "         EDA       0.89      0.95      0.92        41\n",
      "         BVP       0.91      0.88      0.89        48\n",
      "\n",
      "   micro avg       0.94      0.94      0.94       193\n",
      "   macro avg       0.94      0.94      0.94       193\n",
      "weighted avg       0.94      0.94      0.94       193\n",
      "\n",
      "\n",
      "\n"
     ]
    }
   ],
   "source": [
    "# Example for each data representation\n",
    "# Clustering and test on the feature-based space\n",
    "y_predicted = db.dissimilarity_based(FS_X_train, y_train, FS_X_test, y_test, classifier, train_signal=train_data, test_signal=test_data, clustering_space='Feature', testing_space='Feature', method='medoid', by_file=False)[0]\n",
    "# Ground truth\n",
    "target_names = ['Resp', 'ECG', 'EDA', 'BVP']\n",
    "print('Accuracy (%): ', accuracy_score(y_test, y_predicted)*100)\n",
    "print(classification_report(y_test, y_predicted, target_names=target_names))\n",
    "print('\\n')"
   ]
  },
  {
   "cell_type": "code",
   "execution_count": 11,
   "metadata": {},
   "outputs": [
    {
     "name": "stdout",
     "output_type": "stream",
     "text": [
      "Number of clusters in class label: kmin:  2 kmax:  46\n",
      "Number of clusters in class label: kmin:  2 kmax:  47\n",
      "Number of clusters in class label: kmin:  2 kmax:  52\n",
      "Number of clusters in class label: kmin:  2 kmax:  48\n",
      "Accuracy (%):  55.44041450777202\n",
      "              precision    recall  f1-score   support\n",
      "\n",
      "        Resp       0.48      0.40      0.43        53\n",
      "         ECG       0.61      0.65      0.63        51\n",
      "         EDA       0.69      0.80      0.74        41\n",
      "         BVP       0.43      0.42      0.42        48\n",
      "\n",
      "   micro avg       0.55      0.55      0.55       193\n",
      "   macro avg       0.55      0.57      0.56       193\n",
      "weighted avg       0.54      0.55      0.55       193\n",
      "\n",
      "\n",
      "\n"
     ]
    }
   ],
   "source": [
    "# Clustering on the feature-based space and test on the morphological space\n",
    "y_predicted = db.dissimilarity_based(FS_X_train, y_train, FS_X_test, y_test, classifier, train_signal=train_data, test_signal=test_data, clustering_space='Feature', testing_space='Signal', method='medoid', by_file=False)[0]\n",
    "print('Accuracy (%): ', accuracy_score(y_test, y_predicted)*100)\n",
    "print(classification_report(y_test, y_predicted, target_names=target_names))\n",
    "print('\\n')"
   ]
  },
  {
   "cell_type": "code",
   "execution_count": 12,
   "metadata": {},
   "outputs": [
    {
     "name": "stdout",
     "output_type": "stream",
     "text": [
      "Number of clusters in class label: kmin:  2 kmax:  46\n",
      "Number of clusters in class label: kmin:  2 kmax:  47\n",
      "Number of clusters in class label: kmin:  2 kmax:  52\n",
      "Number of clusters in class label: kmin:  2 kmax:  48\n",
      "Accuracy (%):  55.44041450777202\n",
      "              precision    recall  f1-score   support\n",
      "\n",
      "        Resp       0.48      0.40      0.43        53\n",
      "         ECG       0.61      0.65      0.63        51\n",
      "         EDA       0.69      0.80      0.74        41\n",
      "         BVP       0.43      0.42      0.42        48\n",
      "\n",
      "   micro avg       0.55      0.55      0.55       193\n",
      "   macro avg       0.55      0.57      0.56       193\n",
      "weighted avg       0.54      0.55      0.55       193\n",
      "\n",
      "\n",
      "\n"
     ]
    }
   ],
   "source": [
    "# Clustering and test on the morphological space\n",
    "y_predicted = db.dissimilarity_based(FS_X_train, y_train, FS_X_test, y_test, classifier, train_signal=train_data, test_signal=test_data, clustering_space='Signal', testing_space='Signal', method='medoid', by_file=False)[0]\n",
    "print('Accuracy (%): ', accuracy_score(y_test, y_predicted)*100)\n",
    "print(classification_report(y_test, y_predicted, target_names=target_names))\n",
    "print('\\n')"
   ]
  },
  {
   "cell_type": "code",
   "execution_count": 13,
   "metadata": {},
   "outputs": [
    {
     "name": "stdout",
     "output_type": "stream",
     "text": [
      "Number of clusters in class label: kmin:  2 kmax:  46\n",
      "Number of clusters in class label: kmin:  2 kmax:  47\n",
      "Number of clusters in class label: kmin:  2 kmax:  52\n",
      "Number of clusters in class label: kmin:  2 kmax:  48\n",
      "Accuracy (%):  100.0\n",
      "              precision    recall  f1-score   support\n",
      "\n",
      "        Resp       1.00      1.00      1.00         1\n",
      "         ECG       1.00      1.00      1.00         1\n",
      "         EDA       1.00      1.00      1.00         1\n",
      "         BVP       1.00      1.00      1.00         1\n",
      "\n",
      "   micro avg       1.00      1.00      1.00         4\n",
      "   macro avg       1.00      1.00      1.00         4\n",
      "weighted avg       1.00      1.00      1.00         4\n",
      "\n"
     ]
    }
   ],
   "source": [
    "# Majority Voting for each sensor file\n",
    "# Supposing we do not know to which column the data belongs to\n",
    "# Clustering and test on the feature-based space\n",
    "y_predicted = db.dissimilarity_based(FS_X_train, y_train, FS_X_test, y_test, classifier, method='medoid', by_file=True)[0]\n",
    "y_test_by_file = np.unique(y_test)\n",
    "print('Accuracy (%): ', accuracy_score(y_test_by_file, y_predicted)*100)\n",
    "print(classification_report(y_test_by_file, y_predicted, target_names=target_names))"
   ]
  },
  {
   "cell_type": "code",
   "execution_count": 14,
   "metadata": {},
   "outputs": [
    {
     "data": {
      "image/png": "[encoded data removed]",
      "text/plain": [
       "<Figure size 2560x1440 with 1 Axes>"
      ]
     },
     "metadata": {},
     "output_type": "display_data"
    }
   ],
   "source": [
    "# Confusion Matrix\n",
    "class_labels = ['Resp','ECG','EDA','BVP']\n",
    "cm = confusion_matrix(y_test_by_file, y_predicted)\n",
    "cm = cm.astype('float') / cm.sum(axis=1)[:, np.newaxis]\n",
    "df_cm = pd.DataFrame(cm, index=[i for i in class_labels], columns=[i for i in class_labels])\n",
    "my_dpi = 300\n",
    "plt.figure(figsize=(2560 / my_dpi, 1440 / my_dpi), dpi=my_dpi)\n",
    "plt.tight_layout()\n",
    "ax = sb.heatmap(df_cm,  cbar = False, cmap=\"BuGn\", annot=True)\n",
    "plt.setp(ax.get_xticklabels(), rotation=45)\n",
    "plt.ylabel('True label', fontweight='bold', fontsize = 18)\n",
    "plt.xlabel('Predicted label', fontweight='bold', fontsize = 18)\n",
    "#plt.savefig('ConfMaxtrixAP.eps', dpi=300, format='eps', bbox_inches='tight')\n",
    "plt.show()"
   ]
  },
  {
   "cell_type": "code",
   "execution_count": null,
   "metadata": {},
   "outputs": [],
   "source": []
  }
 ],
 "metadata": {
  "kernelspec": {
   "display_name": "Python 3",
   "language": "python",
   "name": "python3"
  },
  "language_info": {
   "codemirror_mode": {
    "name": "ipython",
    "version": 3
   },
   "file_extension": ".py",
   "mimetype": "text/x-python",
   "name": "python",
   "nbconvert_exporter": "python",
   "pygments_lexer": "ipython3",
   "version": "3.7.2"
  }
 },
 "nbformat": 4,
 "nbformat_minor": 2
}
