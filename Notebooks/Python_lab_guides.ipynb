{
  "nbformat": 4,
  "nbformat_minor": 0,
  "metadata": {
    "colab": {
      "name": "Python-lab-guides.ipynb",
      "provenance": [],
      "collapsed_sections": [],
      "toc_visible": true
    },
    "kernelspec": {
      "name": "python3",
      "display_name": "Python 3"
    }
  },
  "cells": [
    {
      "cell_type": "markdown",
      "metadata": {
        "id": "mrCwfKga5DXO",
        "colab_type": "text"
      },
      "source": [
        "![alt text](https://github.com/BITalinoWorld/python-lab-guides/raw/master/BITalino%20Hands-on/images/bitalinobar.jpg)\n",
        "\n",
        "# 0.Setting up\n",
        "\n",
        "\n",
        "---\n",
        "\n",
        "\n",
        "\n",
        "\n",
        "\n",
        "*   Install the Anaconda Python distribution that best suits your platform (Python 2.7 is recommended):\n",
        "\n",
        "  [https://www.anaconda.com/distribution/](https://www.anaconda.com/distribution/)\n",
        "\n",
        "* Install the BITalino Python API (recommended):\n",
        "\n",
        "  https://github.com/BITalinoWorld/revolution-python-api\n",
        "\n",
        "* Install BITalino's ServerBIT (r)evolution:\n",
        "\n",
        "  https://github.com/BITalinoWorld/revolution-python-serverbit\n",
        "\n",
        "* Install OpenSignals (r)evolution Software:\n",
        "\n",
        "  http://bitalino.com/en/software\n",
        "\n",
        "* Install the BioSPPy Toolbox (may come in handy):\n",
        "\n",
        "  https://github.com/PIA-Group/BioSPPy\n",
        "  \n",
        "* Get a good code editor:\n",
        "\n",
        "    * **Spyder** is already included with Anaconda or \n",
        "    * **PyCharm** https://www.jetbrains.com/pycharm/\n",
        "\n",
        "* Enjoy executing some code (e.g. by launching a Jupyter notebook)\n",
        "\n",
        "* Prepare your device by connecting the battery (i.e. slide the battery connector onto the white socket on the BITalino block labelled as PWR)\n",
        "\n",
        "* Turn your device on by sliding the power button to the ON position; a white LED will start fading in / out, meaning that the device is in standby\n",
        "\n",
        "* Get familiar with the architecture of BITalino ([datasheet](http://bitalino.com/datasheets/REVOLUTION_BITalino_Board_Kit_Datasheet.pdf))\n",
        "\n",
        "![alt text ](https://github.com/BITalinoWorld/python-lab-guides/blob/master/BITalino%20Hands-on/images/BITalino_cut.jpg?raw=true)"
      ]
    },
    {
      "cell_type": "markdown",
      "metadata": {
        "id": "1vE3-48y7JSd",
        "colab_type": "text"
      },
      "source": [
        "![alt text](https://github.com/BITalinoWorld/python-lab-guides/raw/master/BITalino%20Hands-on/images/bitalinobar.jpg)\n",
        "\n",
        "# 1.Acquisition\n",
        "\n",
        "\n",
        "---\n",
        "\n",
        "\n",
        "\n",
        "Once your BITalino is turned on, pair the device with your computer via the Bluetooth device manager using the PIN 1234 (this is a one-time process). Your device will be named BITalino-XX-XX, with XX-XX being the last four hex digits of your devices' MAC address.\n",
        "\n",
        "**IMPORTANT NOTE**: The MAC address is the sequence XX:XX:XX:XX:XX:XX found on the label on the back of the devices' BT block and / or on the back of the cardboard packaging where the device is shipped.\n",
        "\n",
        "The following steps should guide you through to a first glimpse of your signals in real-time:\n",
        "\n",
        "* Launch **OpenSignals (r)evolution**\n",
        "\n",
        "* Enable your device for acquisition by pressing the magnifying glass icon on the main screen and clicking the box showing the MAC address of your device (this is a one-time process) \n",
        " * **IMPORTANT NOTE**: The ENABLE button needs to be blue\n",
        "\n",
        "* You can proceed directly to record data, but you can also use this screen to configure the acquisition settings for your device (e.g. select the channels to be acquired, identify the type of sensor or change the sampling rate)\n",
        "\n",
        "* It is recommended that you review the sensor datasheets to obtain instructions regarding the typical electrode placement, sensor specifications and the transfer functions that can be used to convert the raw data into the correct physical units:\n",
        "\n",
        "  * [Electromiography (EMG)](http://bitalino.com/datasheets/REVOLUTION_EMG_Sensor_Datasheet.pdf)\n",
        "  \n",
        "  * [Electrodermal Activity (EDA)](http://bitalino.com/datasheets/REVOLUTION_EDA_Sensor_Datasheet.pdf)\n",
        "  * [Electrocardiography (ECG)](http://bitalino.com/datasheets/REVOLUTION_ECG_Sensor_Datasheet.pdf)\n",
        "  * [Electroencephalography (EEG)](http://bitalino.com/datasheets/EEG_Sensor_Datasheet.pdf)\n",
        "  * [Accelerometry (ACC)](http://bitalino.com/datasheets/REVOLUTION_ACC_Sensor_Datasheet.pdf)\n",
        "  * [Optical Sensing (LUX)](http://bitalino.com/datasheets/REVOLUTION_LUX_Sensor_Datasheet.pdf)\n",
        "  * [Event Annotation (BTN)](http://bitalino.com/datasheets/REVOLUTION_BTN_Sensor_Datasheet.pdf)\n",
        "* **Record a signal** by pressing the red circle on the main menu of the software\n",
        "\n",
        "![alt text ](https://github.com/BITalinoWorld/python-lab-guides/raw/master/BITalino%20Hands-on/images/opensig.jpg)\n",
        "  "
      ]
    },
    {
      "cell_type": "markdown",
      "metadata": {
        "id": "tq2Ir2xM9e3M",
        "colab_type": "text"
      },
      "source": [
        "![alt text](https://github.com/BITalinoWorld/python-lab-guides/raw/master/BITalino%20Hands-on/images/bitalinobar.jpg)\n",
        "\n",
        "# 2.Opening Recorded Data in Python\n",
        "\n",
        "\n",
        "---\n",
        "\n",
        "\n",
        "\n",
        "Locate a recording on your hard drive; for your convenience, we provide the [SampleACC.txt](https://github.com/BITalinoWorld/python-lab-guides/blob/master/BITalino%20Hands-on/SampleACC.txt) file with a snippet of Accelerometry (ACC) data.\n",
        "\n",
        "You can make a simple experiment using the Python script [LoadFile.py](https://github.com/BITalinoWorld/python-lab-guides/blob/master/BITalino%20Hands-on/LoadFile.py); this code uses the function [loadtxt](https://docs.scipy.org/doc/numpy-1.13.0/reference/generated/numpy.loadtxt.html) (in this case made available through the PyLab module), to load the recorded data onto a variable in your program and display it in a graphic:\n",
        "\n"
      ]
    },
    {
      "cell_type": "code",
      "metadata": {
        "id": "mshvIJCdBK1L",
        "colab_type": "code",
        "colab": {}
      },
      "source": [
        "!git clone https://github.com/BITalinoWorld/python-lab-guides >/dev/null 2>&1"
      ],
      "execution_count": 0,
      "outputs": []
    },
    {
      "cell_type": "code",
      "metadata": {
        "id": "dkzKO-PBCRA7",
        "colab_type": "code",
        "outputId": "f4db5fdf-27ca-4079-fa6b-0b4a8fd185b9",
        "colab": {
          "base_uri": "https://localhost:8080/",
          "height": 34
        }
      },
      "source": [
        "cd /content/python-lab-guides"
      ],
      "execution_count": 0,
      "outputs": [
        {
          "output_type": "stream",
          "text": [
            "/content/python-lab-guides\n"
          ],
          "name": "stdout"
        }
      ]
    },
    {
      "cell_type": "code",
      "metadata": {
        "id": "HZ1T_eRP7CSv",
        "colab_type": "code",
        "outputId": "4feda35d-629f-4796-a47d-f818f49b5829",
        "colab": {
          "base_uri": "https://localhost:8080/",
          "height": 282
        }
      },
      "source": [
        "from pylab import *\n",
        "%matplotlib inline\n",
        "\n",
        "data = loadtxt(\"BITalino Hands-on/SampleACC.txt\")\n",
        "\n",
        "plot(data[:,5])"
      ],
      "execution_count": 0,
      "outputs": [
        {
          "output_type": "execute_result",
          "data": {
            "text/plain": [
              "[<matplotlib.lines.Line2D at 0x7f52c423be10>]"
            ]
          },
          "metadata": {
            "tags": []
          },
          "execution_count": 3
        },
        {
          "output_type": "display_data",
          "data": {
            "image/png": "[encoded data removed]",
            "text/plain": [
              "<Figure size 432x288 with 1 Axes>"
            ]
          },
          "metadata": {
            "tags": []
          }
        }
      ]
    },
    {
      "cell_type": "markdown",
      "metadata": {
        "id": "Hf9nDXhFAKjJ",
        "colab_type": "text"
      },
      "source": [
        "**IMPORTANT NOTE**: In the [SampleACC.txt]((https://github.com/BITalinoWorld/python-lab-guides/blob/master/BITalino%20Hands-on/SampleACC.txt)) file, ACC data was recorded using the BITalino analog input A5, and can be found on column 6 of the file; given that Python uses zero-based numbering for indexing, the data matrix is being sliced in column 5 (i.e. data[:,5]). Further information about the content of the files recorded using OpenSignals (r)evolution can be found at: http://forum.bitalino.com/viewtopic.php?f=15&t=481&p=1553#p1553  "
      ]
    },
    {
      "cell_type": "markdown",
      "metadata": {
        "id": "qJVXsry8AZ6Y",
        "colab_type": "text"
      },
      "source": [
        "![alt text](https://github.com/BITalinoWorld/python-lab-guides/raw/master/BITalino%20Hands-on/images/bitalinobar.jpg)\n",
        "\n",
        "# 3.Post-Processing a Signal\n",
        "\n",
        "\n",
        "---\n",
        "\n",
        "\n",
        "\n",
        "Based on the previous code, another experiment you can do is to compute the envelope of the EMG signal (i.e. smooth the absolute value of the signal after removing the mean).\n",
        "\n",
        "To facilitate this task, you can use the Python script [ProcessFile.py](https://github.com/BITalinoWorld/python-lab-guides/blob/master/BITalino%20Hands-on/ProcessFile.py), which loads an EMG signal sample in order to remove its baseline and apply a low-pass filter to it:"
      ]
    },
    {
      "cell_type": "code",
      "metadata": {
        "id": "PGNt0RXAAf6b",
        "colab_type": "code",
        "outputId": "1404d847-eed0-49ee-a0a9-25added02bd9",
        "colab": {
          "base_uri": "https://localhost:8080/",
          "height": 282
        }
      },
      "source": [
        "from pylab import *\n",
        "from numpy import *\n",
        "from scipy import signal\n",
        "\n",
        "def lowpass(s, f, order=2, fs=1000.0):\n",
        "    b, a = signal.butter(order, f / (fs/2))\n",
        "    return signal.lfilter(b, a, s)\n",
        "\n",
        "data = loadtxt(\"BITalino Hands-on/SampleEMG.txt\")\n",
        "\n",
        "emg_data = data[:,5]\n",
        "\n",
        "abs_data = abs(emg_data-mean(emg_data))\n",
        "\n",
        "proc_data = lowpass(abs_data, 10) # filter with a lowpass filter at 10Hz\n",
        "\n",
        "plot(emg_data)\n",
        "\n",
        "plot(proc_data)"
      ],
      "execution_count": 0,
      "outputs": [
        {
          "output_type": "execute_result",
          "data": {
            "text/plain": [
              "[<matplotlib.lines.Line2D at 0x7f52c43624e0>]"
            ]
          },
          "metadata": {
            "tags": []
          },
          "execution_count": 4
        },
        {
          "output_type": "display_data",
          "data": {
            "image/png": "[encoded data removed]",
            "text/plain": [
              "<Figure size 432x288 with 1 Axes>"
            ]
          },
          "metadata": {
            "tags": []
          }
        }
      ]
    },
    {
      "cell_type": "markdown",
      "metadata": {
        "id": "-gq_3_YjBY3Y",
        "colab_type": "text"
      },
      "source": [
        "![alt text](https://github.com/BITalinoWorld/python-lab-guides/raw/master/BITalino%20Hands-on/images/bitalinobar.jpg)\n",
        "\n",
        "# 4.Analyzing your Data\n",
        "\n",
        "\n",
        "---\n",
        "\n",
        "\n",
        "\n",
        "Python is often referred to as \"the batteries included language\", meaning that there are plenty of useful modules either bundled or contributed by the community. Biosignals are no exception and some libraries already bundle basic signal processing and analytics components.\n",
        "\n",
        "One experiment you can do, is to extract the heartbeat waveforms and determine the instant heart rate for an ECG signal using the BioSPPy toolbox. To facilitate this task, you can use the Python script [AnalyzeFile.py](https://github.com/BITalinoWorld/python-lab-guides/blob/master/BITalino%20Hands-on/AnalyzeFile.py), which loads an ECG signal sample in order to filter it, extract several convenient features and plot them in a chart:"
      ]
    },
    {
      "cell_type": "code",
      "metadata": {
        "id": "brI4-k27CfWm",
        "colab_type": "code",
        "colab": {}
      },
      "source": [
        "!pip install biosppy #>/dev/null 2>&1w\n",
        "!pip install matplotlib\n",
        "!pip install numpy #>/dev/null 2>&1w\n",
        "!pip install bitalino #>/dev/null 2>&1w\n",
        "!pip install serial"
      ],
      "execution_count": 0,
      "outputs": []
    },
    {
      "cell_type": "code",
      "metadata": {
        "id": "Qq14IiaVBmR3",
        "colab_type": "code",
        "outputId": "29f2556c-9c77-4dae-bcea-62377fa2caca",
        "colab": {
          "base_uri": "https://localhost:8080/",
          "height": 368
        }
      },
      "source": [
        "from pylab import *\n",
        "from biosppy.signals import ecg\n",
        "\n",
        "data = loadtxt(\"BITalino Hands-on/SampleECG.txt\")[:,-1]\n",
        "\n",
        "out = ecg.ecg(signal=data, sampling_rate=1000., show=True)"
      ],
      "execution_count": 0,
      "outputs": [
        {
          "output_type": "error",
          "ename": "ModuleNotFoundError",
          "evalue": "ignored",
          "traceback": [
            "\u001b[0;31m---------------------------------------------------------------------------\u001b[0m",
            "\u001b[0;31mModuleNotFoundError\u001b[0m                       Traceback (most recent call last)",
            "\u001b[0;32m<ipython-input-5-bc261216d506>\u001b[0m in \u001b[0;36m<module>\u001b[0;34m()\u001b[0m\n\u001b[1;32m      1\u001b[0m \u001b[0;32mfrom\u001b[0m \u001b[0mpylab\u001b[0m \u001b[0;32mimport\u001b[0m \u001b[0;34m*\u001b[0m\u001b[0;34m\u001b[0m\u001b[0;34m\u001b[0m\u001b[0m\n\u001b[0;32m----> 2\u001b[0;31m \u001b[0;32mfrom\u001b[0m \u001b[0mbiosppy\u001b[0m\u001b[0;34m.\u001b[0m\u001b[0msignals\u001b[0m \u001b[0;32mimport\u001b[0m \u001b[0mecg\u001b[0m\u001b[0;34m\u001b[0m\u001b[0;34m\u001b[0m\u001b[0m\n\u001b[0m\u001b[1;32m      3\u001b[0m \u001b[0;34m\u001b[0m\u001b[0m\n\u001b[1;32m      4\u001b[0m \u001b[0mdata\u001b[0m \u001b[0;34m=\u001b[0m \u001b[0mloadtxt\u001b[0m\u001b[0;34m(\u001b[0m\u001b[0;34m\"BITalino Hands-on/SampleECG.txt\"\u001b[0m\u001b[0;34m)\u001b[0m\u001b[0;34m[\u001b[0m\u001b[0;34m:\u001b[0m\u001b[0;34m,\u001b[0m\u001b[0;34m-\u001b[0m\u001b[0;36m1\u001b[0m\u001b[0;34m]\u001b[0m\u001b[0;34m\u001b[0m\u001b[0;34m\u001b[0m\u001b[0m\n\u001b[1;32m      5\u001b[0m \u001b[0;34m\u001b[0m\u001b[0m\n",
            "\u001b[0;31mModuleNotFoundError\u001b[0m: No module named 'biosppy'",
            "",
            "\u001b[0;31m---------------------------------------------------------------------------\u001b[0;32m\nNOTE: If your import is failing due to a missing package, you can\nmanually install dependencies using either !pip or !apt.\n\nTo view examples of installing some common dependencies, click the\n\"Open Examples\" button below.\n\u001b[0;31m---------------------------------------------------------------------------\u001b[0m\n"
          ]
        }
      ]
    },
    {
      "cell_type": "markdown",
      "metadata": {
        "id": "nduAw2jeCpjl",
        "colab_type": "text"
      },
      "source": [
        "In the previous example, the toolbox is used in a more automated manner to take in raw data and produce a graphical output. However, you also have the possibility to access the extracted features and manipulate them directly. The following experiment demonstrates just that; the raw data is processed using the toolbox, plotted against the filtered version and annotated with vertical lines placed on the positions of the R-peaks."
      ]
    },
    {
      "cell_type": "code",
      "metadata": {
        "id": "ZoWXoQglCudk",
        "colab_type": "code",
        "colab": {}
      },
      "source": [
        "from pylab import *\n",
        "from biosppy.signals import ecg\n",
        "\n",
        "data = loadtxt(\"BITalino Hands-on/SampleECG.txt\")[:,-1]\n",
        "\n",
        "out = ecg.ecg(signal=data, sampling_rate=1000., show=False)\n",
        "\n",
        "raw = data-data.mean()\n",
        "filtered = out['filtered']-out['filtered'].mean()\n",
        "\n",
        "plot(raw)\n",
        "plot(filtered, 'k')\n",
        "\n",
        "vlines(out['rpeaks'], min(raw)*2, max(raw)*2, 'gray', 'dashed')\n",
        "\n",
        "legend(['raw', 'filtered', 'R-peaks'])"
      ],
      "execution_count": 0,
      "outputs": []
    },
    {
      "cell_type": "markdown",
      "metadata": {
        "id": "I-N2TS2cC2sq",
        "colab_type": "text"
      },
      "source": [
        "![alt text](https://github.com/BITalinoWorld/python-lab-guides/raw/master/BITalino%20Hands-on/images/bitalinobar.jpg)\n",
        "\n",
        "# 5.Asynchronous Measurement and Control\n",
        "\n",
        "\n",
        "---\n",
        "\n",
        "\n",
        "\n",
        "Until now we've seen how to work with data recorded using OpenSignals (r)evolution in post-processing tasks, however, it is also possible to interact with the device directly from your Python program.\n",
        "\n",
        "The BITalino MCU supports multiple operation modes (detailed in the [datasheet](http://bitalino.com/datasheets/REVOLUTION_MCU_Block_Datasheet.pdf)), which are conveniently exposed through user-friendly high-level methods provided on the [APIs](https://bitalino.com/en/development/apis). Our experiments will use the [Python API](https://github.com/BITalinoWorld/revolution-python-api), for which documentation is available here: http://bitalino.com/pyAPI/\n",
        "\n",
        "The example [LightsBIT.py](https://github.com/BITalinoWorld/python-lab-guides/blob/master/BITalino%20Hands-on/LightsBIT.py) (shown bellow) demonstrates how to read and change the [state](http://bitalino.com/pyAPI/#bitalino.BITalino.state) of the device. Whenever the program is executed, the LED actuator and the low battery indicator LED will turn ON if they were turned off and turn OFF otherwise, printing its state on screen.\n",
        "\n",
        "To control the LED actuator, the [trigger](http://bitalino.com/pyAPI/#bitalino.BITalino.trigger) method is used, while the [battery](http://bitalino.com/pyAPI/#bitalino.BITalino.battery) method is used to obtain and change the low battery level threshold in such a way that the LED turns on or off.\n",
        "\n",
        "An annotated notebook version of this script is available at [LightsBIT_steps.ipynb](https://github.com/BITalinoWorld/python-lab-guides/blob/master/BITalino%20Hands-on/detailed/LightsBIT_steps.ipynb)\n",
        "\n",
        "**IMPORTANT NOTE**: You need to adapt the code so that the macAddress variable has the correct value for your operating system and device MAC address.\n"
      ]
    },
    {
      "cell_type": "code",
      "metadata": {
        "id": "DCNBSRgGC9iZ",
        "colab_type": "code",
        "colab": {}
      },
      "source": [
        "import bitalino\n",
        "import numpy\n",
        "\n",
        "# Mac OS\n",
        "# macAddress = \"/dev/tty.BITalino-XX-XX-DevB\"\n",
        "\n",
        "# Windows\n",
        "macAddress = \"XX:XX:XX:XX:XX:XX\"\n",
        " \n",
        "device = bitalino.BITalino(macAddress)\n",
        "\n",
        "state = device.state()\n",
        "\n",
        "toggle = 1-state['digitalChannels'][2]\n",
        "\n",
        "device.trigger([toggle, 0])\n",
        "\n",
        "device.battery(0 if toggle else 63)\n",
        "\n",
        "print (\"LIGHTS ON\" if toggle else \"LIGHTS OFF\")\n",
        "\n",
        "device.close()"
      ],
      "execution_count": 0,
      "outputs": []
    },
    {
      "cell_type": "markdown",
      "metadata": {
        "id": "JEiYFjPJETq6",
        "colab_type": "text"
      },
      "source": [
        "In the previous example, only when the program is executed an action is produced. Combining the same principles with a repetition structure introduces us to a more interactive behaviour.\n",
        "\n",
        "This is illustrated on our [ButtonBIT.py](https://github.com/BITalinoWorld/python-lab-guides/blob/master/BITalino%20Hands-on/ButtonBIT.py) example (shown bellow), where a loop continuously checks the [state](http://bitalino.com/pyAPI/#bitalino.BITalino.state) of the device and turns the LED actuator and low battery LED ON or OFF, based on the state of the Pushbutton (BTN) sensor.\n",
        "\n",
        "By default, the BTN sensor is connected to the BITalino digital input I1 (hence the fetching of state['digitalChannels'][0]), and depending on whether the button is pressed, the abovementioned LEDs will turn ON or OFF accordingly.\n",
        "\n",
        "An annotated version notebook of this script can be seen at [ButtonBIT_steps.ipynb](https://github.com/BITalinoWorld/python-lab-guides/blob/master/BITalino%20Hands-on/detailed/ButtonBIT_steps.ipynb)"
      ]
    },
    {
      "cell_type": "code",
      "metadata": {
        "id": "RpUQmP_6Ejyf",
        "colab_type": "code",
        "colab": {}
      },
      "source": [
        "import bitalino\n",
        "import numpy\n",
        "\n",
        "# Mac OS\n",
        "# macAddress = \"/dev/tty.BITalino-XX-XX-DevB\"\n",
        "\n",
        "# Windows\n",
        "macAddress = \"XX:XX:XX:XX:XX:XX\"\n",
        " \n",
        "device = bitalino.BITalino(macAddress)\n",
        "\n",
        "try:\n",
        "  while True:\n",
        "      state = device.state()\n",
        "      \n",
        "      toggle = state['digitalChannels'][0]\n",
        "      \n",
        "      device.trigger([toggle, 0])\n",
        "      \n",
        "      device.battery(0 if toggle else 63)\n",
        "      \n",
        "      print (\"LIGHTS ON\" if toggle else \"LIGHTS OFF\")\n",
        "\n",
        "finally:\n",
        "  device.close()"
      ],
      "execution_count": 0,
      "outputs": []
    },
    {
      "cell_type": "markdown",
      "metadata": {
        "id": "At52HGcdEvpF",
        "colab_type": "text"
      },
      "source": [
        "![alt text](https://github.com/BITalinoWorld/python-lab-guides/raw/master/BITalino%20Hands-on/images/bitalinobar.jpg)\n",
        "\n",
        "# 6.Real-Time Signal Processing\n",
        "\n",
        "\n",
        "---\n",
        "\n",
        "In the previous section we have seen how to asynchronously interface with BITalino from within a Python program. A big downside of asynchronous communication is the fact that the time in-between readings (i.e. sampling interval) is variable.\n",
        "\n",
        "Although many informal applications can cope with this operation model, for digital signal processing and research use it is of utmost importance to have a known and accurate sampling interval. For this reason, BITalino provides an operation mode where data is streamed at a fixed sampling rate.\n",
        "\n",
        "Our [MuscleBIT.py](https://github.com/BITalinoWorld/python-lab-guides/blob/master/BITalino%20Hands-on/MuscleBIT.py) example (shown bellow) illustrates this operation mode. The streaming process is initiated by calling the [start](http://bitalino.com/pyAPI/#bitalino.BITalino.start) method, in which a sampling rate and set of channels to be acquired can be specified.\n",
        "\n",
        "Once the device starts streaming, it is fundamental that the program reads the samples sent by the device in a timely and continuous (or near-continuous) manner, otherwise it will stop streaming automatically. In our example, this is achieved by putting the call to the [read](http://bitalino.com/pyAPI/#bitalino.BITalino.read) method inside a repetition structure.\n",
        "\n",
        "This particular example computes the EMG signal envelope in real-time and turns the Buzzer (BUZ) actuator on in case a certain threshold is exceeded. Pressing the BTN sensor for a few seconds will stop the program.\n",
        "\n",
        "An annotated version notebook of this script can be seen at [MuscleBIT_steps.ipynb](https://github.com/BITalinoWorld/python-lab-guides/blob/master/BITalino%20Hands-on/detailed/MuscleBIT_steps.ipynb).\n",
        "\n",
        "**IMPORTANT NOTE**: This is a time-critical operation and BITalino has a small internal buffer to accumulate samples (roughly less than 2 seconds), reason for which if the time in-between calls to the read method is much higher than the rate at which the device is streaming data (e.g. due to the time taken by calculations) the internal buffer will fill and the device will stop streaming data. A crucial component in this process is the amount of samples acquired from the device at a time; for additional information please refer to: http://forum.bitalino.com/viewtopic.php?t=129#p227\n",
        "\n",
        "\n",
        "\n"
      ]
    },
    {
      "cell_type": "code",
      "metadata": {
        "id": "ZD2I_kTbE4TU",
        "colab_type": "code",
        "colab": {}
      },
      "source": [
        "import bitalino\n",
        "import numpy\n",
        "import time\n",
        "\n",
        "# Mac OS\n",
        "# macAddress = \"/dev/tty.BITalino-XX-XX-DevB\"\n",
        "\n",
        "# Windows\n",
        "macAddress = \"XX:XX:XX:XX:XX:XX\"\n",
        "   \n",
        "device = bitalino.BITalino(macAddress)\n",
        "time.sleep(1)\n",
        "\n",
        "srate = 1000\n",
        "nframes = 100\n",
        "threshold = 5\n",
        "\n",
        "device.start(srate, [0])\n",
        "print (\"START\")\n",
        "\n",
        "try:\n",
        "    while True:\n",
        "\n",
        "        data = device.read(nframes)\n",
        "        \n",
        "        if numpy.mean(data[:, 1]) < 1: break\n",
        "\n",
        "        EMG = data[:, -1]\n",
        "        \n",
        "        envelope = numpy.mean(abs(numpy.diff(EMG)))\n",
        "\n",
        "        if envelope > threshold:\n",
        "            device.trigger([0, 1])\n",
        "        else:\n",
        "            device.trigger([0, 0])\n",
        "\n",
        "finally:\n",
        "    print (\"STOP\")\n",
        "    device.trigger([0, 0])\n",
        "    device.stop()\n",
        "    device.close()"
      ],
      "execution_count": 0,
      "outputs": []
    },
    {
      "cell_type": "markdown",
      "metadata": {
        "id": "ovMn2WqTGtyy",
        "colab_type": "text"
      },
      "source": [
        "![alt text](https://github.com/BITalinoWorld/python-lab-guides/raw/master/BITalino%20Hands-on/images/bitalinobar.jpg)\n",
        "\n",
        "# 7.Live on the Web Browser\n",
        "\n",
        "\n",
        "---\n",
        "\n",
        "Struggling with data acquisition in Python? We've handled part of the heavy load for you by creating [ServerBIT](https://github.com/BITalinoWorld/revolution-python-serverbit), an easy-to-install software bundle that runs in a service-like manner, continuously streaming data from the device to third-party applications (e.g. your web browser).\n",
        "\n",
        "Once installed, you need to configure the MAC address and channels to be acquired through the [config.json](https://github.com/BITalinoWorld/revolution-python-serverbit#settings-in-configjson) by following the instructions described here:\n",
        "https://github.com/BITalinoWorld/revolution-python-serverbit#pre-configured-installers\n",
        "\n",
        "ServerBIT runs in a resilient manner, meaning that once it is launched it will automatically attempt to connect to your configured device and, even if the device is not turned on or the connection is lost, it will periodically attempt to reconnect and resume the data streaming process.\n",
        "\n",
        "Data is streamed using [WebSockets](https://developer.mozilla.org/en-US/docs/Web/API/WebSockets_API) technology, helping you receive the data stream even in a web browser.\n",
        "\n",
        "With the ServerBIT running, if you open the [ClientBIT.html](https://github.com/BITalinoWorld/revolution-python-serverbit/blob/master/ClientBIT.html) sample web page (source code shown bellow) the signals from the sensor connected to channel A1 will be displayed in real time.\n",
        "\n",
        "The ClientBIT.html user interface is implemented using open technologies, namely HTML/CSS/JavaScript, with graphics managed using the [Flot](http://www.flotcharts.org/flot/examples/basic-options/index.html) library, so feel free to scavange the web and fiddle with the source code to adapt it to your particular ideas.\n",
        "\n",
        "    <script language=\"javascript\" type=\"text/javascript\" src=\"jquery.js\"></script> \n",
        "    <script language=\"javascript\" type=\"text/javascript\" src=\"jquery.flot.js\"></script> \n",
        "    <script type=\"text/javascript\">\n",
        "        // Establish a connection to the ServerBIT\n",
        "        var ws = new WebSocket(\"ws://localhost:9001/\");\n",
        "        ws.onopen = function() {\n",
        "        };\n",
        "        // Process the responses sent by the ServerBIT\n",
        "        ws.onmessage = function (e) {\n",
        "            data = JSON.parse(e.data)\n",
        "            var d1 = [];\n",
        "            ch = 'A1'\n",
        "            for (var i = 0; i < data[ch].length; i += 1)\n",
        "                d1.push([i, data[ch][i]]);\n",
        "            $.plot($(\"#placeholder\"), [ d1 ], {yaxis: {min:0, max: 1024}});\n",
        "        };\n",
        "        // Detect when the page is unloaded or close\n",
        "        window.onbeforeunload = function() {\n",
        "            ws.onclose = function () {};\n",
        "            ws.close()\n",
        "        };        \n",
        "        \n",
        "    </script>\n",
        "    <body>\n",
        "        <div><h1>BITalinoWS</h1></div>\n",
        "\t<div id=\"placeholder\" style=\"width:600px;height:300px;\"></div> \n",
        "    </body>"
      ]
    },
    {
      "cell_type": "markdown",
      "metadata": {
        "id": "KbR9tFNtIUAD",
        "colab_type": "text"
      },
      "source": [
        "![alt text](https://github.com/BITalinoWorld/python-lab-guides/raw/master/BITalino%20Hands-on/images/bitalinobar.jpg)\n",
        "#8.External Links\n",
        "\n",
        "\n",
        "---\n",
        "\n",
        "* BITalino Forum allows you to learn, share and discuss your experiences with others:\n",
        "\n",
        "  http://forum.bitalino.com/\n",
        "\n",
        "* BITalino Python API documentation is available here:\n",
        "  \n",
        "  http://bitalino.com/pyAPI/\n",
        "\n",
        "* BITalino APIs for several other languages can be found at:\n",
        "  \n",
        "  http://bitalino.com/en/development/apis\n",
        "\n",
        "* BioSPPy toolbox documentation is available here:\n",
        "  \n",
        "  http://biosppy.readthedocs.io/en/stable/\n",
        "\n",
        "* BITalinoWorld channel on YouTube has a few nifty videos:\n",
        "  \n",
        "  https://www.youtube.com/user/BITalinoWorld/videos\n",
        "\n",
        "* [PLUX](https://plux.info/) and [biosignalsplux](https://www.biosignalsplux.com/) have solutions that enable you to extend your research\n",
        "\n"
      ]
    },
    {
      "cell_type": "code",
      "metadata": {
        "id": "SL1kdbkYGz0g",
        "colab_type": "code",
        "colab": {}
      },
      "source": [
        ""
      ],
      "execution_count": 0,
      "outputs": []
    }
  ]
}